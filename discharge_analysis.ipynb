{
 "cells": [
  {
   "cell_type": "code",
   "execution_count": 4,
   "metadata": {},
   "outputs": [],
   "source": [
    "import pandas as pd\n",
    "import matplotlib.pyplot as plt\n",
    "import numpy as np\n",
    "import seaborn as sns\n",
    "import re"
   ]
  },
  {
   "cell_type": "code",
   "execution_count": 5,
   "metadata": {},
   "outputs": [
    {
     "name": "stderr",
     "output_type": "stream",
     "text": [
      "/var/folders/z5/d2ytmy3d2h18qcqwb9v71w2m0000gq/T/ipykernel_8940/3651058669.py:1: DtypeWarning: Columns (29) have mixed types. Specify dtype option on import or set low_memory=False.\n",
      "  df = pd.read_csv(\"Hospital_Inpatient_Discharges__SPARCS_De-Identified___2021_20250208.csv\")\n"
     ]
    },
    {
     "data": {
      "text/plain": [
       "Index(['Hospital Service Area', 'Hospital County',\n",
       "       'Operating Certificate Number', 'Permanent Facility Id',\n",
       "       'Facility Name', 'Age Group', 'Zip Code - 3 digits', 'Gender', 'Race',\n",
       "       'Ethnicity', 'Length of Stay', 'Type of Admission',\n",
       "       'Patient Disposition', 'Discharge Year', 'CCSR Diagnosis Code',\n",
       "       'CCSR Diagnosis Description', 'CCSR Procedure Code',\n",
       "       'CCSR Procedure Description', 'APR DRG Code', 'APR DRG Description',\n",
       "       'APR MDC Code', 'APR MDC Description', 'APR Severity of Illness Code',\n",
       "       'APR Severity of Illness Description', 'APR Risk of Mortality',\n",
       "       'APR Medical Surgical Description', 'Payment Typology 1',\n",
       "       'Payment Typology 2', 'Payment Typology 3', 'Birth Weight',\n",
       "       'Emergency Department Indicator', 'Total Charges', 'Total Costs'],\n",
       "      dtype='object')"
      ]
     },
     "execution_count": 5,
     "metadata": {},
     "output_type": "execute_result"
    }
   ],
   "source": [
    "df = pd.read_csv(\"Hospital_Inpatient_Discharges__SPARCS_De-Identified___2021_20250208.csv\")\n",
    "df.columns"
   ]
  },
  {
   "cell_type": "code",
   "execution_count": null,
   "metadata": {},
   "outputs": [],
   "source": []
  }
 ],
 "metadata": {
  "kernelspec": {
   "display_name": "base",
   "language": "python",
   "name": "python3"
  },
  "language_info": {
   "codemirror_mode": {
    "name": "ipython",
    "version": 3
   },
   "file_extension": ".py",
   "mimetype": "text/x-python",
   "name": "python",
   "nbconvert_exporter": "python",
   "pygments_lexer": "ipython3",
   "version": "3.12.7"
  }
 },
 "nbformat": 4,
 "nbformat_minor": 2
}
